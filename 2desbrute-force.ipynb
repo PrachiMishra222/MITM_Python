{
 "cells": [
  {
   "cell_type": "code",
   "execution_count": 15,
   "id": "bef461f2-0413-489d-9ae6-9d4b9b40cc0a",
   "metadata": {},
   "outputs": [
    {
     "name": "stdin",
     "output_type": "stream",
     "text": [
      "Enter 0 text to encrypt:  12\n",
      "Enter 1 text to encrypt:  123\n",
      "Enter 2 text to encrypt:  34\n",
      "Enter 3 text to encrypt:  65\n",
      "Enter 4 text to encrypt:  43\n",
      "Enter 5 text to encrypt:  7\n",
      "Enter key1:  4\n",
      "Enter key2: 5\n"
     ]
    },
    {
     "name": "stdout",
     "output_type": "stream",
     "text": [
      "The cipher for the given input0 is:  130\n",
      "The cipher for the given input1 is:  134\n",
      "The cipher for the given input2 is:  234\n",
      "The cipher for the given input3 is:  138\n",
      "The cipher for the given input4 is:  215\n",
      "The cipher for the given input5 is:  191\n"
     ]
    }
   ],
   "source": [
    "# SDES\n",
    "\n",
    "KeyLength = 10\n",
    "SubKeyLength = 8\n",
    "DataLength = 8\n",
    "FLength = 4\n",
    " \n",
    "# Tables for initial and final permutations (b1, b2, b3, ... b8)\n",
    "IPtable = (2, 6, 3, 1, 4, 8, 5, 7)\n",
    "FPtable = (4, 1, 3, 5, 7, 2, 8, 6)\n",
    " \n",
    "# Tables for subkey generation (k1, k2, k3, ... k10)\n",
    "P10table = (3, 5, 2, 7, 4, 10, 1, 9, 8, 6)\n",
    "P8table = (6, 3, 7, 4, 8, 5, 10, 9)\n",
    " \n",
    "# Tables for the fk function\n",
    "EPtable = (4, 1, 2, 3, 2, 3, 4, 1)\n",
    "S0table = (1, 0, 3, 2, 3, 2, 1, 0, 0, 2, 1, 3, 3, 1, 3, 2)\n",
    "S1table = (0, 1, 2, 3, 2, 0, 1, 3, 3, 0, 1, 0, 2, 1, 0, 3)\n",
    "P4table = (2, 4, 3, 1)\n",
    " \n",
    "def perm(inputByte, permTable):\n",
    "    \"\"\"Permute input byte according to permutation table\"\"\"\n",
    "    outputByte = 0\n",
    "    for index, elem in enumerate(permTable):\n",
    "        if index >= elem:\n",
    "            outputByte |= (inputByte & (128 >> (elem - 1))) >> (index - (elem - 1))\n",
    "        else:\n",
    "            outputByte |= (inputByte & (128 >> (elem - 1))) << ((elem - 1) - index)\n",
    "    return outputByte\n",
    " \n",
    "def ip(inputByte):\n",
    "    \"\"\"Perform the initial permutation on data\"\"\"\n",
    "    return perm(inputByte, IPtable)\n",
    " \n",
    "def fp(inputByte):\n",
    "    \"\"\"Perform the final permutation on data\"\"\"\n",
    "    return perm(inputByte, FPtable)\n",
    " \n",
    "def swapNibbles(inputByte):\n",
    "    \"\"\"Swap the two nibbles of data\"\"\"\n",
    "    return (inputByte << 4 | inputByte >> 4) & 0xff\n",
    " \n",
    "def keyGen(key):\n",
    "    \"\"\"Generate the two required subkeys\"\"\"\n",
    "    def leftShift(keyBitList):\n",
    "        \"\"\"Perform a circular left shift on the first and second five bits\"\"\"\n",
    "        shiftedKey = [None] * KeyLength\n",
    "        shiftedKey[0:9] = keyBitList[1:10]\n",
    "        shiftedKey[4] = keyBitList[0]\n",
    "        shiftedKey[9] = keyBitList[5]\n",
    "        return shiftedKey\n",
    " \n",
    "    # Converts input key (integer) into a list of binary digits\n",
    "    keyList = [(key & 1 << i) >> i for i in reversed(range(KeyLength))]\n",
    "    permKeyList = [None] * KeyLength\n",
    "    for index, elem in enumerate(P10table):\n",
    "        permKeyList[index] = keyList[elem - 1]\n",
    "    shiftedOnceKey = leftShift(permKeyList)\n",
    "    shiftedTwiceKey = leftShift(leftShift(shiftedOnceKey))\n",
    "    subKey1 = subKey2 = 0\n",
    "    for index, elem in enumerate(P8table):\n",
    "        subKey1 += (128 >> index) * shiftedOnceKey[elem - 1]\n",
    "        subKey2 += (128 >> index) * shiftedTwiceKey[elem - 1]\n",
    "    return (subKey1, subKey2)\n",
    " \n",
    "def fk(subKey, inputData):\n",
    "    \"\"\"Apply Feistel function on data with given subkey\"\"\"\n",
    "    def F(sKey, rightNibble):\n",
    "        aux = sKey ^ perm(swapNibbles(rightNibble), EPtable)\n",
    "        index1 = ((aux & 0x80) >> 4) + ((aux & 0x40) >> 5) + \\\n",
    "                 ((aux & 0x20) >> 5) + ((aux & 0x10) >> 2)\n",
    "        index2 = ((aux & 0x08) >> 0) + ((aux & 0x04) >> 1) + \\\n",
    "                 ((aux & 0x02) >> 1) + ((aux & 0x01) << 2)\n",
    "        sboxOutputs = swapNibbles((S0table[index1] << 2) + S1table[index2])\n",
    "        return perm(sboxOutputs, P4table)\n",
    " \n",
    "    leftNibble, rightNibble = inputData & 0xf0, inputData & 0x0f\n",
    "    return (leftNibble ^ F(subKey, rightNibble)) | rightNibble\n",
    " \n",
    "def encrypt(key, plaintext):\n",
    "    \"\"\"Encrypt plaintext with given key\"\"\"\n",
    "    data = fk(keyGen(key)[0], ip(plaintext))\n",
    "    return fp(fk(keyGen(key)[1], swapNibbles(data)))\n",
    " \n",
    "def decrypt(key, ciphertext):\n",
    "    \"\"\"Decrypt ciphertext with given key\"\"\"\n",
    "    data = fk(keyGen(key)[1], ip(ciphertext))\n",
    "    return fp(fk(keyGen(key)[0], swapNibbles(data)))  \n",
    "\"\"\"-------end of SDES implementation-------\"\"\"\n",
    "\n",
    "\"\"\"Method for double encryption taking key1,key2 and \n",
    " plaintext and returning corresponding ciphertext\"\"\"\n",
    " \n",
    "def double_encrypt(k1,k2,plaintext):\n",
    "    temp_cipher = encrypt(k1,plaintext)\n",
    "    ciphertext = encrypt(k2,temp_cipher)\n",
    "    return ciphertext\n",
    "\n",
    "\"\"\"Method for double decryption taking key1,key2 and \n",
    "ciphertext and returning corresponding plaintext\"\"\"\n",
    "\n",
    "def double_decrypt(k1,k2,cipher):\n",
    "    middle_cipher = decrypt(k2,cipher)\n",
    "    plain_text = decrypt(k1,middle_cipher)\n",
    "    return plain_text\n",
    "\n",
    "\"\"\" asking user to input plaintext in order to get \n",
    "  (plaintext,cipherext) pairs to attack\"\"\"\n",
    "\n",
    "plaintext=list()\n",
    "cipher_text=list()\n",
    "for i in range(0,6):\n",
    "    text = int(input(\"Enter \"+ str(i) +\" text to encrypt: \"))\n",
    "    plaintext.append(text)\n",
    "\n",
    "key1 = int(input(\"Enter key1: \"))\n",
    "key2 = int(input(\"Enter key2:\" ))\n",
    "for i in range(0,6):\n",
    "    cipher = double_encrypt(key1,key2,plaintext[i])\n",
    "    cipher_text.append(cipher)\n",
    "    print(\"The cipher for the given input\"+ str(i) +\" is: \",cipher_text[i])\n",
    "for i in range(0,1023):\n",
    "    for j in range(0,1023):\n",
    "        cipher0=double_encrypt(i,j,plaintext[0])\n",
    "        cipher1=double_encrypt(i,j,plaintext[1])\n",
    "        cipher2=double_encrypt(i,j,plaintext[2])\n",
    "        cipher3=double_encrypt(i,j,plaintext[3])\n",
    "        cipher4=double_encrypt(i,j,plaintext[4])\n",
    "        cipher5=double_encrypt(i,j,plaintext[5])\n",
    "        if cipher0==cipher_text[0] and cipher1==cipher_text[1] and cipher2==cipher_text[2] and cipher3==cipher_text[3] and cipher4==cipher_text[4] and cipher5==cipher_text[5]:\n",
    "            print(\"Keys k1 and k2 are\",i,j)"
   ]
  },
  {
   "cell_type": "code",
   "execution_count": 16,
   "id": "a9e87fba-483e-485b-b44e-4406482481b8",
   "metadata": {},
   "outputs": [
    {
     "name": "stdout",
     "output_type": "stream",
     "text": [
      "130\n"
     ]
    }
   ],
   "source": [
    "print(cipher_text[0])"
   ]
  },
  {
   "cell_type": "code",
   "execution_count": 17,
   "id": "67ee9fbf-5527-4f37-93a1-4979f8a36d87",
   "metadata": {},
   "outputs": [
    {
     "name": "stdout",
     "output_type": "stream",
     "text": [
      "Keys k1 and k2 are 4 5\n"
     ]
    },
    {
     "ename": "KeyboardInterrupt",
     "evalue": "",
     "output_type": "error",
     "traceback": [
      "\u001b[1;31m---------------------------------------------------------------------------\u001b[0m",
      "\u001b[1;31mKeyboardInterrupt\u001b[0m                         Traceback (most recent call last)",
      "Cell \u001b[1;32mIn [17], line 6\u001b[0m\n\u001b[0;32m      4\u001b[0m cipher1\u001b[38;5;241m=\u001b[39mdouble_encrypt(i,j,plaintext[\u001b[38;5;241m1\u001b[39m])\n\u001b[0;32m      5\u001b[0m cipher2\u001b[38;5;241m=\u001b[39mdouble_encrypt(i,j,plaintext[\u001b[38;5;241m2\u001b[39m])\n\u001b[1;32m----> 6\u001b[0m cipher3\u001b[38;5;241m=\u001b[39m\u001b[43mdouble_encrypt\u001b[49m\u001b[43m(\u001b[49m\u001b[43mi\u001b[49m\u001b[43m,\u001b[49m\u001b[43mj\u001b[49m\u001b[43m,\u001b[49m\u001b[43mplaintext\u001b[49m\u001b[43m[\u001b[49m\u001b[38;5;241;43m3\u001b[39;49m\u001b[43m]\u001b[49m\u001b[43m)\u001b[49m\n\u001b[0;32m      7\u001b[0m cipher4\u001b[38;5;241m=\u001b[39mdouble_encrypt(i,j,plaintext[\u001b[38;5;241m4\u001b[39m])\n\u001b[0;32m      8\u001b[0m cipher5\u001b[38;5;241m=\u001b[39mdouble_encrypt(i,j,plaintext[\u001b[38;5;241m5\u001b[39m])\n",
      "Cell \u001b[1;32mIn [15], line 96\u001b[0m, in \u001b[0;36mdouble_encrypt\u001b[1;34m(k1, k2, plaintext)\u001b[0m\n\u001b[0;32m     95\u001b[0m \u001b[38;5;28;01mdef\u001b[39;00m \u001b[38;5;21mdouble_encrypt\u001b[39m(k1,k2,plaintext):\n\u001b[1;32m---> 96\u001b[0m     temp_cipher \u001b[38;5;241m=\u001b[39m \u001b[43mencrypt\u001b[49m\u001b[43m(\u001b[49m\u001b[43mk1\u001b[49m\u001b[43m,\u001b[49m\u001b[43mplaintext\u001b[49m\u001b[43m)\u001b[49m\n\u001b[0;32m     97\u001b[0m     ciphertext \u001b[38;5;241m=\u001b[39m encrypt(k2,temp_cipher)\n\u001b[0;32m     98\u001b[0m     \u001b[38;5;28;01mreturn\u001b[39;00m ciphertext\n",
      "Cell \u001b[1;32mIn [15], line 83\u001b[0m, in \u001b[0;36mencrypt\u001b[1;34m(key, plaintext)\u001b[0m\n\u001b[0;32m     81\u001b[0m \u001b[38;5;28;01mdef\u001b[39;00m \u001b[38;5;21mencrypt\u001b[39m(key, plaintext):\n\u001b[0;32m     82\u001b[0m     \u001b[38;5;124;03m\"\"\"Encrypt plaintext with given key\"\"\"\u001b[39;00m\n\u001b[1;32m---> 83\u001b[0m     data \u001b[38;5;241m=\u001b[39m fk(\u001b[43mkeyGen\u001b[49m\u001b[43m(\u001b[49m\u001b[43mkey\u001b[49m\u001b[43m)\u001b[49m[\u001b[38;5;241m0\u001b[39m], ip(plaintext))\n\u001b[0;32m     84\u001b[0m     \u001b[38;5;28;01mreturn\u001b[39;00m fp(fk(keyGen(key)[\u001b[38;5;241m1\u001b[39m], swapNibbles(data)))\n",
      "Cell \u001b[1;32mIn [15], line 58\u001b[0m, in \u001b[0;36mkeyGen\u001b[1;34m(key)\u001b[0m\n\u001b[0;32m     56\u001b[0m permKeyList \u001b[38;5;241m=\u001b[39m [\u001b[38;5;28;01mNone\u001b[39;00m] \u001b[38;5;241m*\u001b[39m KeyLength\n\u001b[0;32m     57\u001b[0m \u001b[38;5;28;01mfor\u001b[39;00m index, elem \u001b[38;5;129;01min\u001b[39;00m \u001b[38;5;28menumerate\u001b[39m(P10table):\n\u001b[1;32m---> 58\u001b[0m     permKeyList[index] \u001b[38;5;241m=\u001b[39m keyList[elem \u001b[38;5;241m-\u001b[39m \u001b[38;5;241m1\u001b[39m]\n\u001b[0;32m     59\u001b[0m shiftedOnceKey \u001b[38;5;241m=\u001b[39m leftShift(permKeyList)\n\u001b[0;32m     60\u001b[0m shiftedTwiceKey \u001b[38;5;241m=\u001b[39m leftShift(leftShift(shiftedOnceKey))\n",
      "\u001b[1;31mKeyboardInterrupt\u001b[0m: "
     ]
    }
   ],
   "source": [
    "\n"
   ]
  },
  {
   "cell_type": "code",
   "execution_count": null,
   "id": "b2efa391-3aa7-4af6-a84f-84f626c1279e",
   "metadata": {},
   "outputs": [],
   "source": []
  }
 ],
 "metadata": {
  "kernelspec": {
   "display_name": "Python 3 (ipykernel)",
   "language": "python",
   "name": "python3"
  },
  "language_info": {
   "codemirror_mode": {
    "name": "ipython",
    "version": 3
   },
   "file_extension": ".py",
   "mimetype": "text/x-python",
   "name": "python",
   "nbconvert_exporter": "python",
   "pygments_lexer": "ipython3",
   "version": "3.11.0"
  }
 },
 "nbformat": 4,
 "nbformat_minor": 5
}
